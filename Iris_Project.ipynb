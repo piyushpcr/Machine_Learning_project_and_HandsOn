{
 "cells": [
  {
   "cell_type": "code",
   "execution_count": 1,
   "id": "ee524860",
   "metadata": {},
   "outputs": [],
   "source": [
    "from sklearn.datasets import load_iris\n",
    "iris=load_iris()"
   ]
  },
  {
   "cell_type": "code",
   "execution_count": 2,
   "id": "2bdf90ab",
   "metadata": {},
   "outputs": [],
   "source": [
    "X=iris.data\n",
    "Y=iris.target\n",
    "# f(x)=y\n",
    "feature_names=iris.feature_names\n",
    "target_names=iris.target_names\n",
    "# feature_names\n",
    "# target_names\n",
    "# type(X)"
   ]
  },
  {
   "cell_type": "markdown",
   "id": "35bedaa6",
   "metadata": {},
   "source": [
    "\n",
    "# Split The Data"
   ]
  },
  {
   "cell_type": "code",
   "execution_count": 3,
   "id": "6fd50731",
   "metadata": {},
   "outputs": [
    {
     "name": "stdout",
     "output_type": "stream",
     "text": [
      "(60, 4)\n",
      "(90, 4)\n"
     ]
    }
   ],
   "source": [
    "from sklearn.model_selection import train_test_split\n",
    "X_train,X_test,Y_train,Y_test=train_test_split(X,Y,test_size=0.6)  #train_test_split is a function in Sklearn model selection for splitting data arrays into two subsets: for training data and for testing data. With this function, you don't need to divide the dataset manually.By default, Sklearn train_test_split will make random partitions for the two subsets. However, you can also specify a random state for the operation.\n",
    "print(X_train.shape)\n",
    "print(X_test.shape)"
   ]
  },
  {
   "cell_type": "markdown",
   "id": "4dc83dfe",
   "metadata": {},
   "source": [
    "# K-Nearest Neighbors Algorithm\n"
   ]
  },
  {
   "cell_type": "code",
   "execution_count": 4,
   "id": "f8b1d20b",
   "metadata": {},
   "outputs": [],
   "source": [
    "from sklearn.neighbors import KNeighborsClassifier    #https://scikit-learn.org/stable/supervised_learning.html\n",
    "knn=KNeighborsClassifier(n_neighbors=3)   #https://www.analyticsvidhya.com/blog/2018/08/k-nearest-neighbor-introduction-regression-python/\n",
    "knn.fit(X_train,Y_train)\n",
    "y_pred= knn.predict(X_test)"
   ]
  },
  {
   "cell_type": "code",
   "execution_count": 5,
   "id": "b034f64b",
   "metadata": {},
   "outputs": [
    {
     "name": "stdout",
     "output_type": "stream",
     "text": [
      "0.9444444444444444\n"
     ]
    }
   ],
   "source": [
    "from sklearn import metrics\n",
    "print(metrics.accuracy_score(Y_test,y_pred))"
   ]
  },
  {
   "cell_type": "code",
   "execution_count": 6,
   "id": "cca6cad9",
   "metadata": {},
   "outputs": [
    {
     "name": "stdout",
     "output_type": "stream",
     "text": [
      "Prdictions :  ['versicolor', 'virginica']\n"
     ]
    }
   ],
   "source": [
    "sample=[[3,5,4,2],[2,3,5,4]]\n",
    "prediction=knn.predict(sample)\n",
    "pred_species=[iris.target_names[p] for p in prediction]\n",
    "print(\"Prdictions : \",pred_species)"
   ]
  },
  {
   "cell_type": "markdown",
   "id": "223f3c3d",
   "metadata": {},
   "source": [
    "# Decision Tree Algorithm"
   ]
  },
  {
   "cell_type": "code",
   "execution_count": 7,
   "id": "10953141",
   "metadata": {},
   "outputs": [],
   "source": [
    "from sklearn.tree import DecisionTreeClassifier\n",
    "dt=DecisionTreeClassifier()\n",
    "dt.fit(X_train,Y_train)\n",
    "y_pred= dt.predict(X_test)"
   ]
  },
  {
   "cell_type": "code",
   "execution_count": 8,
   "id": "d5c61627",
   "metadata": {},
   "outputs": [
    {
     "name": "stdout",
     "output_type": "stream",
     "text": [
      "0.9666666666666667\n"
     ]
    }
   ],
   "source": [
    "from sklearn import metrics\n",
    "print(metrics.accuracy_score(Y_test,y_pred))"
   ]
  },
  {
   "cell_type": "code",
   "execution_count": 9,
   "id": "5a59a521",
   "metadata": {},
   "outputs": [
    {
     "name": "stdout",
     "output_type": "stream",
     "text": [
      "Prdictions :  ['versicolor', 'virginica']\n"
     ]
    }
   ],
   "source": [
    "sample=[[3,5,4,2],[2,3,5,4]]\n",
    "prediction=dt.predict(sample)\n",
    "pred_species=[iris.target_names[p] for p in prediction]\n",
    "print(\"Prdictions : \",pred_species)"
   ]
  },
  {
   "cell_type": "markdown",
   "id": "a3241f70",
   "metadata": {},
   "source": [
    "# Model persistence"
   ]
  },
  {
   "cell_type": "code",
   "execution_count": 10,
   "id": "8a6488a8",
   "metadata": {},
   "outputs": [
    {
     "data": {
      "text/plain": [
       "['mlbrain.joblib']"
      ]
     },
     "execution_count": 10,
     "metadata": {},
     "output_type": "execute_result"
    }
   ],
   "source": [
    "import joblib    #https://scikit-learn.org/stable/modules/model_persistence\n",
    "joblib.dump(knn,'mlbrain.joblib') # this store our train model in binary files"
   ]
  },
  {
   "cell_type": "code",
   "execution_count": null,
   "id": "cafa5de9",
   "metadata": {},
   "outputs": [],
   "source": []
  },
  {
   "cell_type": "code",
   "execution_count": 11,
   "id": "84e31c5d",
   "metadata": {},
   "outputs": [
    {
     "name": "stdout",
     "output_type": "stream",
     "text": [
      "Prdictions :  ['versicolor', 'virginica']\n"
     ]
    }
   ],
   "source": [
    "model=joblib.load('mlbrain.joblib')\n",
    "model.predict(X_test)\n",
    "sample=[[3,5,4,2],[2,3,5,4]]\n",
    "prediction=knn.predict(sample)\n",
    "pred_species=[iris.target_names[p] for p in prediction]\n",
    "print(\"Prdictions : \",pred_species)"
   ]
  }
 ],
 "metadata": {
  "kernelspec": {
   "display_name": "Python 3",
   "language": "python",
   "name": "python3"
  },
  "language_info": {
   "codemirror_mode": {
    "name": "ipython",
    "version": 3
   },
   "file_extension": ".py",
   "mimetype": "text/x-python",
   "name": "python",
   "nbconvert_exporter": "python",
   "pygments_lexer": "ipython3",
   "version": "3.9.5"
  }
 },
 "nbformat": 4,
 "nbformat_minor": 5
}
